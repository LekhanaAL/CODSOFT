{
 "cells": [
  {
   "cell_type": "code",
   "execution_count": 1,
   "id": "6c15ecad-239f-402d-988d-359f27b801e4",
   "metadata": {},
   "outputs": [],
   "source": [
    "import pandas as pd"
   ]
  },
  {
   "cell_type": "code",
   "execution_count": 3,
   "id": "9d21d66b-3405-47e9-80f9-4d4ee295990c",
   "metadata": {},
   "outputs": [],
   "source": [
    "import nltk\n",
    "from nltk.corpus import stopwords\n",
    "from nltk.tokenize import word_tokenize\n",
    "from sklearn.feature_extraction.text import TfidfVectorizer\n",
    "import string"
   ]
  },
  {
   "cell_type": "code",
   "execution_count": 5,
   "id": "d28b0136-8d6c-40fa-a088-a6d0b6617d45",
   "metadata": {},
   "outputs": [
    {
     "name": "stderr",
     "output_type": "stream",
     "text": [
      "[nltk_data] Downloading package stopwords to\n",
      "[nltk_data]     C:\\Users\\lekhanaal\\AppData\\Roaming\\nltk_data...\n",
      "[nltk_data]   Package stopwords is already up-to-date!\n",
      "[nltk_data] Downloading package punkt to\n",
      "[nltk_data]     C:\\Users\\lekhanaal\\AppData\\Roaming\\nltk_data...\n",
      "[nltk_data]   Package punkt is already up-to-date!\n"
     ]
    }
   ],
   "source": [
    "# Download stopwords if not already downloaded\n",
    "nltk.download('stopwords')\n",
    "nltk.download('punkt')\n",
    "\n",
    "stop_words = set(stopwords.words('english'))\n",
    "\n",
    "def preprocess_text(text):\n",
    "    # Tokenization\n",
    "    words = word_tokenize(text.lower())\n",
    "    # Removing punctuation and stop words\n",
    "    words = [word for word in words if word.isalnum() and word not in stop_words]\n",
    "    return ' '.join(words)"
   ]
  },
  {
   "cell_type": "code",
   "execution_count": 7,
   "id": "f93e79fe-122b-4577-b3f8-031900b894dc",
   "metadata": {},
   "outputs": [],
   "source": [
    "   \n",
    "# Load training data\n",
    "train_df = pd.read_csv('train.csv')\n",
    "\n",
    "# Load test data\n",
    "test_df = pd.read_csv('test.csv')\n",
    "\n",
    "# Load solution data (for evaluation purposes)\n",
    "solution_df = pd.read_csv('solution.csv')\n",
    "\n",
    "# Preprocess the descriptions in the training data\n",
    "train_df['DESCRIPTION'] = train_df['DESCRIPTION'].apply(preprocess_text)\n",
    "\n",
    "# Preprocess the descriptions in the test data\n",
    "test_df['DESCRIPTION'] = test_df['DESCRIPTION'].apply(preprocess_text)\n"
   ]
  },
  {
   "cell_type": "code",
   "execution_count": 9,
   "id": "b398e3fa-47a8-40a9-a988-9f3e6d332345",
   "metadata": {},
   "outputs": [],
   "source": [
    "# TF-IDF Vectorization\n",
    "tfidf_vectorizer = TfidfVectorizer(max_features=5000)\n",
    "X_train = tfidf_vectorizer.fit_transform(train_df['DESCRIPTION'])\n",
    "X_test = tfidf_vectorizer.transform(test_df['DESCRIPTION'])"
   ]
  },
  {
   "cell_type": "code",
   "execution_count": 11,
   "id": "0f24fb5d-4bcf-434f-a27c-971b0e82069f",
   "metadata": {},
   "outputs": [],
   "source": [
    "# Extract labels\n",
    "y_train = train_df['GENRE']"
   ]
  },
  {
   "cell_type": "code",
   "execution_count": 13,
   "id": "9a3ecb10-d5eb-4087-8c95-86d2941a4bdb",
   "metadata": {},
   "outputs": [],
   "source": [
    "from sklearn.naive_bayes import MultinomialNB\n",
    "from sklearn.linear_model import LogisticRegression\n",
    "from sklearn.svm import SVC\n",
    "import joblib"
   ]
  },
  {
   "cell_type": "code",
   "execution_count": 15,
   "id": "303c14ab-8696-46a0-9650-b040af09142a",
   "metadata": {},
   "outputs": [
    {
     "data": {
      "text/plain": [
       "['naive_bayes_model.pkl']"
      ]
     },
     "execution_count": 15,
     "metadata": {},
     "output_type": "execute_result"
    }
   ],
   "source": [
    "# Train Naive Bayes classifier\n",
    "nb_model = MultinomialNB()\n",
    "nb_model.fit(X_train, y_train)\n",
    "joblib.dump(nb_model, 'naive_bayes_model.pkl')"
   ]
  },
  {
   "cell_type": "code",
   "execution_count": 17,
   "id": "609d63f9-ef25-4c33-8389-c4eac943ba8d",
   "metadata": {},
   "outputs": [
    {
     "data": {
      "text/plain": [
       "['logistic_regression_model.pkl']"
      ]
     },
     "execution_count": 17,
     "metadata": {},
     "output_type": "execute_result"
    }
   ],
   "source": [
    "# Train Logistic Regression classifier\n",
    "lr_model = LogisticRegression(max_iter=1000)\n",
    "lr_model.fit(X_train, y_train)\n",
    "joblib.dump(lr_model, 'logistic_regression_model.pkl')"
   ]
  },
  {
   "cell_type": "code",
   "execution_count": 19,
   "id": "2f3d10fe-e727-4094-849c-6a6ce67b9af5",
   "metadata": {},
   "outputs": [
    {
     "data": {
      "text/plain": [
       "['svm_model.pkl']"
      ]
     },
     "execution_count": 19,
     "metadata": {},
     "output_type": "execute_result"
    }
   ],
   "source": [
    "# Train SVM classifier\n",
    "svm_model = SVC()\n",
    "svm_model.fit(X_train, y_train)\n",
    "joblib.dump(svm_model, 'svm_model.pkl')"
   ]
  },
  {
   "cell_type": "code",
   "execution_count": 21,
   "id": "7c8396b8-8801-41ac-a004-1c99d4535b58",
   "metadata": {},
   "outputs": [
    {
     "data": {
      "text/plain": [
       "['tfidf_vectorizer.pkl']"
      ]
     },
     "execution_count": 21,
     "metadata": {},
     "output_type": "execute_result"
    }
   ],
   "source": [
    "# Save the TF-IDF vectorizer\n",
    "joblib.dump(tfidf_vectorizer, 'tfidf_vectorizer.pkl')"
   ]
  },
  {
   "cell_type": "code",
   "execution_count": 23,
   "id": "ac11664e-10c3-4b82-96b9-13878f967817",
   "metadata": {},
   "outputs": [],
   "source": [
    "from sklearn.metrics import accuracy_score, precision_score, recall_score, f1_score"
   ]
  },
  {
   "cell_type": "code",
   "execution_count": 25,
   "id": "6866fa8f-6113-4be3-bde4-b42c0b948a0e",
   "metadata": {},
   "outputs": [],
   "source": [
    "# Function to evaluate the model\n",
    "def evaluate_model(model, X_test, y_true):\n",
    "    y_pred = model.predict(X_test)\n",
    "    accuracy = accuracy_score(y_true, y_pred)\n",
    "    precision = precision_score(y_true, y_pred, average='weighted')\n",
    "    recall = recall_score(y_true, y_pred, average='weighted')\n",
    "    f1 = f1_score(y_true, y_pred, average='weighted')\n",
    "    return accuracy, precision, recall, f1"
   ]
  },
  {
   "cell_type": "code",
   "execution_count": 27,
   "id": "9497002e-cda1-40b1-b28b-b3b317e3514c",
   "metadata": {},
   "outputs": [],
   "source": [
    "# Load the actual genres for the test data\n",
    "y_test = solution_df['GENRE']"
   ]
  },
  {
   "cell_type": "code",
   "execution_count": 35,
   "id": "a61da997-5a46-40c3-9d33-acf3a53fc3c5",
   "metadata": {},
   "outputs": [],
   "source": [
    "# Function to predict genre\n",
    "def predict_genre(model, plot_summary):\n",
    "    plot_summary_preprocessed = preprocess_text(plot_summary)\n",
    "    plot_summary_tfidf = tfidf_vectorizer.transform([plot_summary_preprocessed])\n",
    "    predicted_genre = model.predict(plot_summary_tfidf)\n",
    "    return predicted_genre[0]"
   ]
  },
  {
   "cell_type": "code",
   "execution_count": 37,
   "id": "fc36244d-599e-41fd-8752-2dd8f38faade",
   "metadata": {},
   "outputs": [
    {
     "name": "stdout",
     "output_type": "stream",
     "text": [
      "Predicted genre (Naive Bayes): drama\n",
      "Predicted genre (Logistic Regression): drama\n",
      "Predicted genre (SVM): drama\n"
     ]
    }
   ],
   "source": [
    "# Example usage\n",
    "new_plot_summary = \"A young boy discovers he has magical powers and attends a school for wizards.\"\n",
    "predicted_genre_nb = predict_genre(nb_model, new_plot_summary)\n",
    "predicted_genre_lr = predict_genre(lr_model, new_plot_summary)\n",
    "predicted_genre_svm = predict_genre(svm_model, new_plot_summary)\n",
    "\n",
    "print(f\"Predicted genre (Naive Bayes): {predicted_genre_nb}\")\n",
    "print(f\"Predicted genre (Logistic Regression): {predicted_genre_lr}\")\n",
    "print(f\"Predicted genre (SVM): {predicted_genre_svm}\")"
   ]
  },
  {
   "cell_type": "code",
   "execution_count": 39,
   "id": "dd3dfa71-16b4-48f2-a5a5-060d0cb130eb",
   "metadata": {},
   "outputs": [
    {
     "name": "stderr",
     "output_type": "stream",
     "text": [
      "C:\\Users\\lekhanaal\\anaconda3\\Lib\\site-packages\\sklearn\\metrics\\_classification.py:1509: UndefinedMetricWarning: Precision is ill-defined and being set to 0.0 in labels with no predicted samples. Use `zero_division` parameter to control this behavior.\n",
      "  _warn_prf(average, modifier, f\"{metric.capitalize()} is\", len(result))\n",
      "C:\\Users\\lekhanaal\\anaconda3\\Lib\\site-packages\\sklearn\\metrics\\_classification.py:1509: UndefinedMetricWarning: Precision is ill-defined and being set to 0.0 in labels with no predicted samples. Use `zero_division` parameter to control this behavior.\n",
      "  _warn_prf(average, modifier, f\"{metric.capitalize()} is\", len(result))\n",
      "C:\\Users\\lekhanaal\\anaconda3\\Lib\\site-packages\\sklearn\\metrics\\_classification.py:1509: UndefinedMetricWarning: Precision is ill-defined and being set to 0.0 in labels with no predicted samples. Use `zero_division` parameter to control this behavior.\n",
      "  _warn_prf(average, modifier, f\"{metric.capitalize()} is\", len(result))\n"
     ]
    },
    {
     "name": "stdout",
     "output_type": "stream",
     "text": [
      "Naive Bayes - Accuracy: 0.5222509225092251, Precision: 0.5155476428118921, Recall: 0.5222509225092251, F1-score: 0.44524651031760154\n",
      "Logistic Regression - Accuracy: 0.5843726937269372, Precision: 0.5638711604519377, Recall: 0.5843726937269372, F1-score: 0.5453500540039219\n",
      "SVM - Accuracy: 0.5810147601476015, Precision: 0.565162579416963, Recall: 0.5810147601476015, F1-score: 0.5328358105306702\n"
     ]
    }
   ],
   "source": [
    "# Evaluate Naive Bayes\n",
    "nb_accuracy, nb_precision, nb_recall, nb_f1 = evaluate_model(nb_model, X_test, y_test)\n",
    "\n",
    "# Evaluate Logistic Regression\n",
    "lr_accuracy, lr_precision, lr_recall, lr_f1 = evaluate_model(lr_model, X_test, y_test)\n",
    "\n",
    "# Evaluate SVM\n",
    "svm_accuracy, svm_precision, svm_recall, svm_f1 = evaluate_model(svm_model, X_test, y_test)\n",
    "\n",
    "print(f\"Naive Bayes - Accuracy: {nb_accuracy}, Precision: {nb_precision}, Recall: {nb_recall}, F1-score: {nb_f1}\")\n",
    "print(f\"Logistic Regression - Accuracy: {lr_accuracy}, Precision: {lr_precision}, Recall: {lr_recall}, F1-score: {lr_f1}\")\n",
    "print(f\"SVM - Accuracy: {svm_accuracy}, Precision: {svm_precision}, Recall: {svm_recall}, F1-score: {svm_f1}\")\n"
   ]
  },
  {
   "cell_type": "code",
   "execution_count": 43,
   "id": "ac8d7fe8-010c-4aa2-b269-730a4afc951f",
   "metadata": {},
   "outputs": [
    {
     "name": "stdout",
     "output_type": "stream",
     "text": [
      "   ID                        TITLE  \\\n",
      "0   1         Edgar's Lunch (1998)   \n",
      "1   2     La guerra de papá (1977)   \n",
      "2   3  Off the Beaten Track (2010)   \n",
      "3   4       Meu Amigo Hindu (2015)   \n",
      "4   5            Er nu zhai (1955)   \n",
      "\n",
      "                                         DESCRIPTION  \n",
      "0  brane loves life car apartment job especially ...  \n",
      "1  spain march 1964 quico naughty child three bel...  \n",
      "2  one year life albin family shepherds north tra...  \n",
      "3  father died spoken brother 10 years serious ca...  \n",
      "4  known internationally martial arts superstar b...  \n"
     ]
    }
   ],
   "source": [
    "print(test_df.head())"
   ]
  },
  {
   "cell_type": "code",
   "execution_count": 45,
   "id": "9ea2fe9a-ba00-45d5-8b37-60b10cf3a10d",
   "metadata": {},
   "outputs": [
    {
     "name": "stdout",
     "output_type": "stream",
     "text": [
      "   ID                             TITLE     GENRE  \\\n",
      "0   1      Oscar et la dame rose (2009)     drama   \n",
      "1   2                      Cupid (1997)  thriller   \n",
      "2   3  Young, Wild and Wonderful (1980)     adult   \n",
      "3   4             The Secret Sin (1915)     drama   \n",
      "4   5            The Unrecovered (2007)     drama   \n",
      "\n",
      "                                         DESCRIPTION  \n",
      "0  listening conversation doctor parents oscar le...  \n",
      "1  brother sister past incestuous relationship cu...  \n",
      "2  bus empties students field trip museum natural...  \n",
      "3  help unemployed father make ends meet edith tw...  \n",
      "4  film title refers bodies ground zero also stat...  \n"
     ]
    }
   ],
   "source": [
    "print(train_df.head())"
   ]
  },
  {
   "cell_type": "code",
   "execution_count": null,
   "id": "e60790a3-0ff3-4ebf-b9ea-5324584ec962",
   "metadata": {},
   "outputs": [],
   "source": []
  }
 ],
 "metadata": {
  "kernelspec": {
   "display_name": "Python 3 (ipykernel)",
   "language": "python",
   "name": "python3"
  },
  "language_info": {
   "codemirror_mode": {
    "name": "ipython",
    "version": 3
   },
   "file_extension": ".py",
   "mimetype": "text/x-python",
   "name": "python",
   "nbconvert_exporter": "python",
   "pygments_lexer": "ipython3",
   "version": "3.12.4"
  }
 },
 "nbformat": 4,
 "nbformat_minor": 5
}
