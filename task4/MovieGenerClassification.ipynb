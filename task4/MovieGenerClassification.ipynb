{
 "cells": [
  {
   "cell_type": "code",
   "execution_count": 3,
   "id": "6c15ecad-239f-402d-988d-359f27b801e4",
   "metadata": {},
   "outputs": [],
   "source": [
    "import pandas as pd"
   ]
  },
  {
   "cell_type": "code",
   "execution_count": 5,
   "id": "9d21d66b-3405-47e9-80f9-4d4ee295990c",
   "metadata": {},
   "outputs": [],
   "source": [
    "import nltk\n",
    "from nltk.corpus import stopwords\n",
    "from nltk.tokenize import word_tokenize\n",
    "from sklearn.feature_extraction.text import TfidfVectorizer\n",
    "import string"
   ]
  },
  {
   "cell_type": "code",
   "execution_count": 6,
   "id": "d28b0136-8d6c-40fa-a088-a6d0b6617d45",
   "metadata": {},
   "outputs": [
    {
     "name": "stderr",
     "output_type": "stream",
     "text": [
      "[nltk_data] Downloading package stopwords to\n",
      "[nltk_data]     C:\\Users\\lekhanaal\\AppData\\Roaming\\nltk_data...\n",
      "[nltk_data]   Package stopwords is already up-to-date!\n",
      "[nltk_data] Downloading package punkt to\n",
      "[nltk_data]     C:\\Users\\lekhanaal\\AppData\\Roaming\\nltk_data...\n",
      "[nltk_data]   Package punkt is already up-to-date!\n"
     ]
    }
   ],
   "source": [
    "# Download stopwords if not already downloaded\n",
    "nltk.download('stopwords')\n",
    "nltk.download('punkt')\n",
    "\n",
    "stop_words = set(stopwords.words('english'))\n",
    "\n",
    "def preprocess_text(text):\n",
    "    # Tokenization\n",
    "    words = word_tokenize(text.lower())\n",
    "    # Removing punctuation and stop words\n",
    "    words = [word for word in words if word.isalnum() and word not in stop_words]\n",
    "    return ' '.join(words)"
   ]
  },
  {
   "cell_type": "code",
   "execution_count": 7,
   "id": "82a4943d-84b1-4fd4-af6c-952c9bbed6a7",
   "metadata": {},
   "outputs": [],
   "source": [
    "import pandas as pd\n",
    "from sklearn.model_selection import train_test_split\n",
    "from sklearn.preprocessing import StandardScaler, LabelEncoder\n",
    "from imblearn.over_sampling import SMOTE\n",
    "from sklearn.feature_extraction.text import TfidfVectorizer\n",
    "from scipy.sparse import csr_matrix\n",
    "import gc"
   ]
  },
  {
   "cell_type": "code",
   "execution_count": 10,
   "id": "f93e79fe-122b-4577-b3f8-031900b894dc",
   "metadata": {},
   "outputs": [],
   "source": [
    "   \n",
    "# Loading train data\n",
    "train_df = pd.read_csv('train.csv')\n",
    "# Loading test data\n",
    "test_df = pd.read_csv('test.csv')\n",
    "# Loading solution data (for evaluation purposes)\n",
    "solution_df = pd.read_csv('solution.csv')\n",
    "\n"
   ]
  },
  {
   "cell_type": "code",
   "execution_count": 12,
   "id": "a5b3c988-d5bc-4d5f-af83-d0e0d92037a6",
   "metadata": {},
   "outputs": [],
   "source": [
    "# Fill missing values or drop them\n",
    "train_df.fillna('', inplace=True)\n",
    "test_df.fillna('', inplace=True)"
   ]
  },
  {
   "cell_type": "code",
   "execution_count": 15,
   "id": "1180f93c-d56c-4a66-8709-7609e2fc35a9",
   "metadata": {
    "scrolled": true
   },
   "outputs": [
    {
     "ename": "NameError",
     "evalue": "name 'combined_df' is not defined",
     "output_type": "error",
     "traceback": [
      "\u001b[1;31m---------------------------------------------------------------------------\u001b[0m",
      "\u001b[1;31mNameError\u001b[0m                                 Traceback (most recent call last)",
      "Cell \u001b[1;32mIn[15], line 2\u001b[0m\n\u001b[0;32m      1\u001b[0m \u001b[38;5;66;03m# Convert all values in object-type columns to strings to ensure uniform data types\u001b[39;00m\n\u001b[1;32m----> 2\u001b[0m \u001b[38;5;28;01mfor\u001b[39;00m column \u001b[38;5;129;01min\u001b[39;00m combined_df\u001b[38;5;241m.\u001b[39mselect_dtypes(include\u001b[38;5;241m=\u001b[39m[\u001b[38;5;124m'\u001b[39m\u001b[38;5;124mobject\u001b[39m\u001b[38;5;124m'\u001b[39m])\u001b[38;5;241m.\u001b[39mcolumns:\n\u001b[0;32m      3\u001b[0m     combined_df[column] \u001b[38;5;241m=\u001b[39m combined_df[column]\u001b[38;5;241m.\u001b[39mastype(\u001b[38;5;28mstr\u001b[39m)\n\u001b[0;32m      5\u001b[0m \u001b[38;5;66;03m# Apply label encoding\u001b[39;00m\n",
      "\u001b[1;31mNameError\u001b[0m: name 'combined_df' is not defined"
     ]
    }
   ],
   "source": [
    "\n",
    "# Convert all values in object-type columns to strings to ensure uniform data types\n",
    "for column in combined_df.select_dtypes(include=['object']).columns:\n",
    "    combined_df[column] = combined_df[column].astype(str)\n",
    "\n",
    "# Apply label encoding\n",
    "label_encoders = {}\n",
    "for column in combined_df.columns:\n",
    "    if combined_df[column].dtype == 'object':  # Ensure you are only encoding categorical features\n",
    "        le = LabelEncoder()\n",
    "        combined_df[column] = le.fit_transform(combined_df[column])\n",
    "        label_encoders[column] = le\n",
    "\n",
    "# Separate train and test data again\n",
    "train_df = combined_df.iloc[:len(train_df)]\n",
    "test_df = combined_df.iloc[len(train_df):]\n"
   ]
  },
  {
   "cell_type": "code",
   "execution_count": 22,
   "id": "589c9c93-3545-41c9-a121-075554b9ff68",
   "metadata": {},
   "outputs": [],
   "source": [
    "import pandas as pd\n",
    "from nltk.tokenize import word_tokenize\n",
    "from nltk.corpus import stopwords\n",
    "\n",
    "stop_words = set(stopwords.words('english'))\n",
    "\n",
    "def preprocess_text(text):\n",
    "    if isinstance(text, str):  # Check if the input is a string\n",
    "        # Tokenization\n",
    "        words = word_tokenize(text.lower())\n",
    "        # Removing punctuation and stop words\n",
    "        words = [word for word in words if word.isalnum() and word not in stop_words]\n",
    "        # Join words back into a single string\n",
    "        return ' '.join(words)\n",
    "    else:\n",
    "        return ''  # Return an empty string if the input is not a string\n",
    "\n",
    "# Convert all entries in 'DESCRIPTION' to strings\n",
    "train_df.loc[:, 'DESCRIPTION'] = train_df['DESCRIPTION'].astype(str)\n",
    "test_df.loc[:, 'DESCRIPTION'] = test_df['DESCRIPTION'].astype(str)\n",
    "\n",
    "# Preprocess the descriptions in the train and test data\n",
    "train_df.loc[:, 'DESCRIPTION'] = train_df['DESCRIPTION'].apply(preprocess_text)\n",
    "test_df.loc[:, 'DESCRIPTION'] = test_df['DESCRIPTION'].apply(preprocess_text)\n"
   ]
  },
  {
   "cell_type": "code",
   "execution_count": 30,
   "id": "17c0b8ea-0158-4c9c-b176-c4232d86d541",
   "metadata": {},
   "outputs": [
    {
     "name": "stdout",
     "output_type": "stream",
     "text": [
      "Index(['ID', 'TITLE', 'GENRE'], dtype='object')\n",
      "Index(['ID', 'TITLE', 'GENRE'], dtype='object')\n",
      "Index(['ID', 'TITLE', 'GENRE', 'DESCRIPTION'], dtype='object')\n"
     ]
    }
   ],
   "source": [
    "print(train_df.columns)\n",
    "print(test_df.columns)\n",
    "print(solution_df.columns)"
   ]
  },
  {
   "cell_type": "code",
   "execution_count": 26,
   "id": "ddee9657-2380-42de-8976-ed64185bc698",
   "metadata": {},
   "outputs": [
    {
     "name": "stderr",
     "output_type": "stream",
     "text": [
      "C:\\Users\\lekhanaal\\AppData\\Local\\Temp\\ipykernel_7144\\15077568.py:7: SettingWithCopyWarning: \n",
      "A value is trying to be set on a copy of a slice from a DataFrame\n",
      "\n",
      "See the caveats in the documentation: https://pandas.pydata.org/pandas-docs/stable/user_guide/indexing.html#returning-a-view-versus-a-copy\n",
      "  train_df.drop('DESCRIPTION', axis=1, inplace=True)\n",
      "C:\\Users\\lekhanaal\\AppData\\Local\\Temp\\ipykernel_7144\\15077568.py:8: SettingWithCopyWarning: \n",
      "A value is trying to be set on a copy of a slice from a DataFrame\n",
      "\n",
      "See the caveats in the documentation: https://pandas.pydata.org/pandas-docs/stable/user_guide/indexing.html#returning-a-view-versus-a-copy\n",
      "  test_df.drop('DESCRIPTION', axis=1, inplace=True)\n"
     ]
    }
   ],
   "source": [
    "vectorizer = TfidfVectorizer(max_features=1000)\n",
    "\n",
    "X_train_text = vectorizer.fit_transform(train_df['DESCRIPTION'])\n",
    "X_test_text = vectorizer.transform(test_df['DESCRIPTION'])\n",
    "# Vectorize the descriptions\n",
    "X_train = vectorizer.fit_transform(train_df['DESCRIPTION'])\n",
    "y_train = train_df['GENRE']\n",
    "\n",
    "X_solution = vectorizer.transform(solution_df['DESCRIPTION'])\n",
    "y_solution = solution_df['GENRE']\n",
    "\n",
    "# Drop original text column if vectorized\n",
    "train_df.drop('DESCRIPTION', axis=1, inplace=True)\n",
    "test_df.drop('DESCRIPTION', axis=1, inplace=True)\n"
   ]
  },
  {
   "cell_type": "code",
   "execution_count": 1,
   "id": "b398e3fa-47a8-40a9-a988-9f3e6d332345",
   "metadata": {},
   "outputs": [
    {
     "ename": "NameError",
     "evalue": "name 'TfidfVectorizer' is not defined",
     "output_type": "error",
     "traceback": [
      "\u001b[1;31m---------------------------------------------------------------------------\u001b[0m",
      "\u001b[1;31mNameError\u001b[0m                                 Traceback (most recent call last)",
      "Cell \u001b[1;32mIn[1], line 1\u001b[0m\n\u001b[1;32m----> 1\u001b[0m tfidf_vectorizer \u001b[38;5;241m=\u001b[39m TfidfVectorizer(max_features\u001b[38;5;241m=\u001b[39m\u001b[38;5;241m10000\u001b[39m, ngram_range\u001b[38;5;241m=\u001b[39m(\u001b[38;5;241m1\u001b[39m, \u001b[38;5;241m2\u001b[39m))\n\u001b[0;32m      2\u001b[0m X_train \u001b[38;5;241m=\u001b[39m tfidf_vectorizer\u001b[38;5;241m.\u001b[39mfit_transform(train_df[\u001b[38;5;124m'\u001b[39m\u001b[38;5;124mDESCRIPTION\u001b[39m\u001b[38;5;124m'\u001b[39m])\n\u001b[0;32m      3\u001b[0m y_train \u001b[38;5;241m=\u001b[39m train_df[\u001b[38;5;124m'\u001b[39m\u001b[38;5;124mGENRE\u001b[39m\u001b[38;5;124m'\u001b[39m]\n",
      "\u001b[1;31mNameError\u001b[0m: name 'TfidfVectorizer' is not defined"
     ]
    }
   ],
   "source": [
    "tfidf_vectorizer = TfidfVectorizer(max_features=10000, ngram_range=(1, 2))\n",
    "X_train = tfidf_vectorizer.fit_transform(train_df['DESCRIPTION'])\n",
    "y_train = train_df['GENRE']\n",
    "X_test = tfidf_vectorizer.transform(test_df['DESCRIPTION'])\n",
    "X_solution = vectorizer.transform(solution_df['DESCRIPTION'])\n",
    "y_solution = solution_df['GENRE']"
   ]
  },
  {
   "cell_type": "code",
   "execution_count": null,
   "id": "44dd1e47-f7f8-4a3e-b6b9-c30d99d588ec",
   "metadata": {},
   "outputs": [],
   "source": [
    "scaler = StandardScaler()\n",
    "\n",
    "# Assuming all features except the target are to be scaled\n",
    "X_train = scaler.fit_transform(train_df.drop('target', axis=1))\n",
    "X_test = scaler.transform(test_df)"
   ]
  },
  {
   "cell_type": "code",
   "execution_count": null,
   "id": "0f24fb5d-4bcf-434f-a27c-971b0e82069f",
   "metadata": {},
   "outputs": [],
   "source": [
    "# Extract labels\n",
    "y_train = train_df['GENRE']"
   ]
  },
  {
   "cell_type": "code",
   "execution_count": null,
   "id": "bf7e474a-8c25-4e08-bdd7-156b58cb0fd3",
   "metadata": {},
   "outputs": [],
   "source": [
    "from sklearn.decomposition import PCA\n",
    "\n",
    "pca = PCA(n_components=500)\n",
    "X_train_reduced = pca.fit_transform(X_train.toarray())"
   ]
  },
  {
   "cell_type": "code",
   "execution_count": null,
   "id": "500ae0d1-6924-4d74-9981-5f53ef951101",
   "metadata": {},
   "outputs": [],
   "source": [
    "from imblearn.over_sampling import SMOTE\n",
    "smote = SMOTE(random_state=52)\n",
    "X_train_res, y_train_res = smote.fit_resample(X_train, train_df['target'])\n",
    "\n",
    "# Free up memory\n",
    "gc.collect()\n"
   ]
  },
  {
   "cell_type": "code",
   "execution_count": null,
   "id": "279b98e7-741d-40fa-b5e9-6c5c97911341",
   "metadata": {},
   "outputs": [],
   "source": [
    "# Create a pipeline\n",
    "pipeline = Pipeline([\n",
    "    ('vectorizer', TfidfVectorizer(max_features=10000)),\n",
    "    ('classifier', LogisticRegression(max_iter=1000))\n",
    "])\n"
   ]
  },
  {
   "cell_type": "code",
   "execution_count": null,
   "id": "a2ffed49-69ea-45f7-b3ca-d0a427b0539e",
   "metadata": {},
   "outputs": [],
   "source": [
    "train_processed_df = pd.DataFrame(X_train_res)\n",
    "train_processed_df['target'] = y_train_res\n",
    "\n",
    "train_processed_df.to_csv('train_processed.csv', index=False)\n",
    "test_processed_df = pd.DataFrame(X_test)\n",
    "test_processed_df.to_csv('test_processed.csv', index=False)\n"
   ]
  },
  {
   "cell_type": "code",
   "execution_count": null,
   "id": "9a3ecb10-d5eb-4087-8c95-86d2941a4bdb",
   "metadata": {},
   "outputs": [],
   "source": [
    "import joblib"
   ]
  },
  {
   "cell_type": "code",
   "execution_count": null,
   "id": "303c14ab-8696-46a0-9650-b040af09142a",
   "metadata": {},
   "outputs": [],
   "source": [
    "# Train Naive Bayes classifier\n",
    "from sklearn.naive_bayes import MultinomialNB\n",
    "from sklearn.model_selection import GridSearchCV\n",
    "\n",
    "param_grid_nb = {'alpha': [0.1, 0.5, 1.0]}\n",
    "grid_search_nb = GridSearchCV(MultinomialNB(), param_grid_nb, cv=5, scoring='accuracy')\n",
    "grid_search_nb.fit(X_train_res, y_train_res)\n",
    "nb_model = grid_search_nb.best_estimator_\n",
    "\n",
    "joblib.dump(nb_model, 'naive_bayes_model.pkl')"
   ]
  },
  {
   "cell_type": "code",
   "execution_count": null,
   "id": "609d63f9-ef25-4c33-8389-c4eac943ba8d",
   "metadata": {},
   "outputs": [],
   "source": [
    "# Train Logistic Regression classifier\n",
    "from sklearn.linear_model import LogisticRegression\n",
    "\n",
    "param_grid_lr = {\n",
    "    'C': [0.1, 1, 10],\n",
    "    'solver': ['liblinear', 'saga']\n",
    "}\n",
    "grid_search_lr = GridSearchCV(LogisticRegression(max_iter=1000), param_grid_lr, cv=5, scoring='accuracy')\n",
    "grid_search_lr.fit(X_train_res, y_train_res)\n",
    "lr_model = grid_search_lr.best_estimator_\n",
    "\n",
    "joblib.dump(lr_model, 'logistic_regression_model.pkl')"
   ]
  },
  {
   "cell_type": "code",
   "execution_count": null,
   "id": "2f3d10fe-e727-4094-849c-6a6ce67b9af5",
   "metadata": {},
   "outputs": [],
   "source": [
    "# Train SVM classifier\n",
    "from sklearn.svm import SVC\n",
    "\n",
    "param_grid_svm = {\n",
    "    'C': [0.1, 1, 10],\n",
    "    'kernel': ['linear', 'rbf']\n",
    "}\n",
    "grid_search_svm = GridSearchCV(SVC(), param_grid_svm, cv=5, scoring='accuracy')\n",
    "grid_search_svm.fit(X_train_res, y_train_res)\n",
    "svm_model = grid_search_svm.best_estimator_\n",
    "\n",
    "joblib.dump(svm_model, 'svm_model.pkl')"
   ]
  },
  {
   "cell_type": "code",
   "execution_count": null,
   "id": "7c8396b8-8801-41ac-a004-1c99d4535b58",
   "metadata": {},
   "outputs": [],
   "source": [
    "# Save the TF-IDF vectorizer\n",
    "joblib.dump(tfidf_vectorizer, 'tfidf_vectorizer.pkl')"
   ]
  },
  {
   "cell_type": "code",
   "execution_count": null,
   "id": "b306d968-2dd7-4356-b92e-e03377da7b88",
   "metadata": {},
   "outputs": [],
   "source": [
    "nb_accuracy, nb_precision, nb_recall, nb_f1 = evaluate_model(nb_model, X_test, y_test)\n",
    "lr_accuracy, lr_precision, lr_recall, lr_f1 = evaluate_model(lr_model, X_test, y_test)\n",
    "svm_accuracy, svm_precision, svm_recall, svm_f1 = evaluate_model(svm_model, X_test, y_test)\n",
    "\n",
    "print(f\"Naive Bayes - Accuracy: {nb_accuracy}, Precision: {nb_precision}, Recall: {nb_recall}, F1-score: {nb_f1}\")\n",
    "print(f\"Logistic Regression - Accuracy: {lr_accuracy}, Precision: {lr_precision}, Recall: {lr_recall}, F1-score: {lr_f1}\")\n",
    "print(f\"SVM - Accuracy: {svm_accuracy}, Precision: {svm_precision}, Recall: {svm_recall}, F1-score: {svm_f1}\")\n"
   ]
  },
  {
   "cell_type": "code",
   "execution_count": null,
   "id": "ac11664e-10c3-4b82-96b9-13878f967817",
   "metadata": {},
   "outputs": [],
   "source": [
    "from sklearn.metrics import accuracy_score, precision_score, recall_score, f1_score"
   ]
  },
  {
   "cell_type": "code",
   "execution_count": null,
   "id": "6866fa8f-6113-4be3-bde4-b42c0b948a0e",
   "metadata": {},
   "outputs": [],
   "source": [
    "# Function to evaluate the model\n",
    "def evaluate_model(model, X_test, y_true):\n",
    "    y_pred = model.predict(X_test)\n",
    "    accuracy = accuracy_score(y_true, y_pred)\n",
    "    precision = precision_score(y_true, y_pred, average='weighted')\n",
    "    recall = recall_score(y_true, y_pred, average='weighted')\n",
    "    f1 = f1_score(y_true, y_pred, average='weighted')\n",
    "    return accuracy, precision, recall, f1"
   ]
  },
  {
   "cell_type": "code",
   "execution_count": null,
   "id": "9497002e-cda1-40b1-b28b-b3b317e3514c",
   "metadata": {},
   "outputs": [],
   "source": [
    "# Load the actual genres for the test data\n",
    "y_test = solution_df['GENRE']"
   ]
  },
  {
   "cell_type": "code",
   "execution_count": null,
   "id": "a61da997-5a46-40c3-9d33-acf3a53fc3c5",
   "metadata": {},
   "outputs": [],
   "source": [
    "# Function to predict genre\n",
    "def predict_genre(model, plot_summary):\n",
    "    plot_summary_preprocessed = preprocess_text(plot_summary)\n",
    "    plot_summary_tfidf = tfidf_vectorizer.transform([plot_summary_preprocessed])\n",
    "    predicted_genre = model.predict(plot_summary_tfidf)\n",
    "    return predicted_genre[0]"
   ]
  },
  {
   "cell_type": "code",
   "execution_count": null,
   "id": "fc36244d-599e-41fd-8752-2dd8f38faade",
   "metadata": {},
   "outputs": [],
   "source": [
    "# Example usage\n",
    "new_plot_summary = \"A young boy discovers he has magical powers and attends a school for wizards.\"\n",
    "predicted_genre_nb = predict_genre(nb_model, new_plot_summary)\n",
    "predicted_genre_lr = predict_genre(lr_model, new_plot_summary)\n",
    "predicted_genre_svm = predict_genre(svm_model, new_plot_summary)\n",
    "\n",
    "print(f\"Predicted genre (Naive Bayes): {predicted_genre_nb}\")\n",
    "print(f\"Predicted genre (Logistic Regression): {predicted_genre_lr}\")\n",
    "print(f\"Predicted genre (SVM): {predicted_genre_svm}\")"
   ]
  },
  {
   "cell_type": "code",
   "execution_count": null,
   "id": "dd3dfa71-16b4-48f2-a5a5-060d0cb130eb",
   "metadata": {},
   "outputs": [],
   "source": [
    "# Evaluate Naive Bayes\n",
    "nb_accuracy, nb_precision, nb_recall, nb_f1 = evaluate_model(nb_model, X_test, y_test)\n",
    "\n",
    "# Evaluate Logistic Regression\n",
    "lr_accuracy, lr_precision, lr_recall, lr_f1 = evaluate_model(lr_model, X_test, y_test)\n",
    "\n",
    "# Evaluate SVM\n",
    "svm_accuracy, svm_precision, svm_recall, svm_f1 = evaluate_model(svm_model, X_test, y_test)\n",
    "\n",
    "print(f\"Naive Bayes - Accuracy: {nb_accuracy}, Precision: {nb_precision}, Recall: {nb_recall}, F1-score: {nb_f1}\")\n",
    "print(f\"Logistic Regression - Accuracy: {lr_accuracy}, Precision: {lr_precision}, Recall: {lr_recall}, F1-score: {lr_f1}\")\n",
    "print(f\"SVM - Accuracy: {svm_accuracy}, Precision: {svm_precision}, Recall: {svm_recall}, F1-score: {svm_f1}\")\n"
   ]
  },
  {
   "cell_type": "code",
   "execution_count": null,
   "id": "e60790a3-0ff3-4ebf-b9ea-5324584ec962",
   "metadata": {},
   "outputs": [],
   "source": []
  }
 ],
 "metadata": {
  "kernelspec": {
   "display_name": "Python 3 (ipykernel)",
   "language": "python",
   "name": "python3"
  },
  "language_info": {
   "codemirror_mode": {
    "name": "ipython",
    "version": 3
   },
   "file_extension": ".py",
   "mimetype": "text/x-python",
   "name": "python",
   "nbconvert_exporter": "python",
   "pygments_lexer": "ipython3",
   "version": "3.12.4"
  }
 },
 "nbformat": 4,
 "nbformat_minor": 5
}
